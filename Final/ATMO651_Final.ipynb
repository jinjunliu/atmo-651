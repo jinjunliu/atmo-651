{
 "cells": [
  {
   "cell_type": "markdown",
   "id": "1f97f620",
   "metadata": {},
   "source": [
    "# Read in data"
   ]
  },
  {
   "cell_type": "code",
   "execution_count": null,
   "id": "68900708",
   "metadata": {},
   "outputs": [],
   "source": [
    "import numpy.linalg as la\n",
    "import xarray as xr\n",
    "import numpy as np\n",
    "\n",
    "def normalize_data(x):\n",
    "    nt, ny, nx = x.shape\n",
    "    x = x.reshape(nt//12, 12, ny, nx)\n",
    "    # seasonal mean\n",
    "    x_mean = x.mean(axis=0, keepdims=True)\n",
    "    # remove seasonal cycle\n",
    "    x = x - x_mean\n",
    "    # reshape time dimension\n",
    "    x = x.reshape(nt, ny, nx)\n",
    "    # normalize by standard deviation\n",
    "    x = x / x.std()\n",
    "    return x\n",
    "# read in the data\n",
    "dir = \"./NCEP_monthly_mean_data/\"\n",
    "sst_ds = xr.open_dataset(dir + \"skt.sfc.mon.mean.tropics.nc\", use_cftime=True)\n",
    "grid_ds = xr.open_dataset(dir + \"lsmask.tropics.nc\", use_cftime=True)\n",
    "# get the data\n",
    "sst_da, grid_da = sst_ds.skt, grid_ds.lsmask\n",
    "# reverse the latitude dimension to make it increasing\n",
    "sst_da = sst_da.reindex(lat=sst_da.lat[::-1])\n",
    "grid_da = grid_da.reindex(lat=grid_da.lat[::-1])\n",
    "# select data from 1948 to 1999 for training, \n",
    "# and in a target region (30N-30S, 100E-60W)\n",
    "lat_min, lat_max = -30, 30\n",
    "lon_min, lon_max = 100, 300\n",
    "sst = sst_da.sel(time=slice(\"1948\", \"1999\"), lon=slice(lon_min, lon_max))\n",
    "grid = grid_da.sel(lon=slice(lon_min, lon_max))\n",
    "lat, lon = sst.lat.values, sst.lon.values\n",
    "time = sst.time.values\n",
    "# get the data as numpy arrays\n",
    "sst, grid = sst.values, grid.values\n",
    "grid = grid[0,:,:]\n",
    "# get dimensions\n",
    "nt, ny, nx = sst.shape\n",
    "# standard deviation\n",
    "sst_std = sst.std()\n",
    "# normalize the data\n",
    "sst_anom = normalize_data(sst)\n",
    "# mask out the land\n",
    "sst_anom[:, grid == -1] = 0\n",
    "# reshape vars to space x time\n",
    "sst = sst_anom.reshape(nt, ny*nx).T\n"
   ]
  }
 ],
 "metadata": {
  "authors": [
   {
    "name": "Jinjun Liu"
   }
  ],
  "kernelspec": {
   "display_name": "Python 3.10.4 ('TCpy')",
   "language": "python",
   "name": "python3"
  },
  "language_info": {
   "codemirror_mode": {
    "name": "ipython",
    "version": 3
   },
   "file_extension": ".py",
   "mimetype": "text/x-python",
   "name": "python",
   "nbconvert_exporter": "python",
   "pygments_lexer": "ipython3",
   "version": "3.10.4"
  },
  "title": "ATMO 651 Final Project",
  "vscode": {
   "interpreter": {
    "hash": "89830f9ad87ab3f8382f138353d764f6fd4f3929eb31315f2489d4f42e4797e6"
   }
  }
 },
 "nbformat": 4,
 "nbformat_minor": 5
}
