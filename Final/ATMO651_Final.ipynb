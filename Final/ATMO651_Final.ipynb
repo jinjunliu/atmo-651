{
 "cells": [
  {
   "cell_type": "markdown",
   "id": "1f97f620",
   "metadata": {},
   "source": [
    "# Read in data"
   ]
  },
  {
   "cell_type": "code",
   "execution_count": null,
   "id": "68900708",
   "metadata": {},
   "outputs": [],
   "source": [
    "import numpy.linalg as la\n",
    "import xarray as xr\n",
    "import numpy as np\n",
    "\n",
    "def normalize_data(x):\n",
    "    nt, ny, nx = x.shape\n",
    "    x = x.reshape(nt//12, 12, ny, nx)\n",
    "    # seasonal mean\n",
    "    x_mean = x.mean(axis=0, keepdims=True)\n",
    "    # remove seasonal cycle\n",
    "    x = x - x_mean\n",
    "    # reshape time dimension\n",
    "    x = x.reshape(nt, ny, nx)\n",
    "    # normalize by standard deviation\n",
    "    x = x / x.std()\n",
    "    return x\n",
    "# read in the data\n",
    "dir = \"./NCEP_monthly_mean_data/\"\n",
    "taux_ds = xr.open_dataset(dir + \"uflx.sfc.mon.mean.tropics.nc\", use_cftime=True)\n",
    "tauy_ds = xr.open_dataset(dir + \"vflx.sfc.mon.mean.tropics.nc\", use_cftime=True)\n",
    "sst_ds = xr.open_dataset(dir + \"skt.sfc.mon.mean.tropics.nc\", use_cftime=True)\n",
    "grid_ds = xr.open_dataset(dir + \"lsmask.tropics.nc\", use_cftime=True)\n",
    "# get the data\n",
    "taux_da, tauy_da, sst_da, grid_da = taux_ds.uflx, tauy_ds.vflx, sst_ds.skt, grid_ds.lsmask\n",
    "# reverse the latitude dimension to make it increasing\n",
    "taux_da = taux_da.reindex(lat=taux_da.lat[::-1])\n",
    "tauy_da = tauy_da.reindex(lat=tauy_da.lat[::-1])\n",
    "sst_da = sst_da.reindex(lat=sst_da.lat[::-1])\n",
    "grid_da = grid_da.reindex(lat=grid_da.lat[::-1])\n",
    "# select data from 1948 to 1999 for training, \n",
    "# and in a target region (30N-30S, 100E-60W)\n",
    "lat_min, lat_max = -30, 30\n",
    "lon_min, lon_max = 100, 300\n",
    "taux = taux_da.sel(time=slice(\"1948\", \"1999\"), lon=slice(lon_min, lon_max))\n",
    "tauy = tauy_da.sel(time=slice(\"1948\", \"1999\"), lon=slice(lon_min, lon_max))\n",
    "sst = sst_da.sel(time=slice(\"1948\", \"1999\"), lon=slice(lon_min, lon_max))\n",
    "grid = grid_da.sel(lon=slice(lon_min, lon_max))\n",
    "lat, lon = taux.lat.values, taux.lon.values\n",
    "time = sst.time.values\n",
    "# get the data as numpy arrays\n",
    "taux, tauy, sst, grid = taux.values, tauy.values, sst.values, grid.values\n",
    "grid = grid[0,:,:]\n",
    "# get dimensions\n",
    "nt, ny, nx = taux.shape\n",
    "# standard deviation\n",
    "taux_std = taux.std()\n",
    "tauy_std = tauy.std()\n",
    "sst_std = sst.std()\n",
    "# normalize the data\n",
    "taux_anom = normalize_data(taux)\n",
    "tauy_anom = normalize_data(tauy)\n",
    "sst_anom = normalize_data(sst)\n",
    "# mask out the land\n",
    "taux_anom[:, grid == -1] = 0\n",
    "tauy_anom[:, grid == -1] = 0\n",
    "sst_anom[:, grid == -1] = 0\n",
    "# concatenate taux and tauy\n",
    "tau = np.concatenate((taux_anom, tauy_anom), axis=1)\n",
    "# reshape vars to space x time\n",
    "tau = tau.reshape(nt, 2*ny*nx).T \n",
    "sst = sst_anom.reshape(nt, ny*nx).T\n",
    "# form matrix A\n",
    "A = 1/nt * tau @ sst.T\n",
    "# apply SVD on A\n",
    "U, S, V = la.svd(A, full_matrices=True)"
   ]
  }
 ],
 "metadata": {
  "authors": [
   {
    "name": "Jinjun Liu"
   }
  ],
  "kernelspec": {
   "display_name": "Python 3.10.4 ('TCpy')",
   "language": "python",
   "name": "python3"
  },
  "language_info": {
   "codemirror_mode": {
    "name": "ipython",
    "version": 3
   },
   "file_extension": ".py",
   "mimetype": "text/x-python",
   "name": "python",
   "nbconvert_exporter": "python",
   "pygments_lexer": "ipython3",
   "version": "3.10.4"
  },
  "title": "ATMO 651 Final Project",
  "vscode": {
   "interpreter": {
    "hash": "89830f9ad87ab3f8382f138353d764f6fd4f3929eb31315f2489d4f42e4797e6"
   }
  }
 },
 "nbformat": 4,
 "nbformat_minor": 5
}
