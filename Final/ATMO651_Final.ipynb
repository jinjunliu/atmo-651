{
 "cells": [
  {
   "attachments": {},
   "cell_type": "markdown",
   "id": "c7ae289c",
   "metadata": {},
   "source": [
    "# OCNG/ATMO 651 Final Project: Linear Inverse Model of Tropical Sea Surface Temperatures\n",
    "\n",
    "## Dataset\n",
    "NCEP/NCAR Reanalysis monthly-mean SST from 1948-01 to 2017-09. The dataset are divided into two parts: the training set and the test set. The training set contains 1948-01 to 1999-12, and the test set contains 2000-01 to 2017-09.\n",
    "\n",
    "## Steps\n",
    "\n",
    "* Step 1. Smooth SST anomalies (SSTAs) using a 3-month running mean and then\n",
    "perform an EOF analysis on the smoothed SSTAs\n",
    "* Step 2. Reconstruct and truncate SSTAs using leading EOFs and the corresponding\n",
    "principal component time series as, T(t)=Si=1, M Pi(t)Ei, where Ei is the ith EOF, Pi(t) is\n",
    "the ith principal component, M is the number of EOFs used to represent T(t).\n",
    "Typically, M is less than 10 and can be determined by the explained variance, say\n",
    "90%, by the first M EOFs\n",
    "* Step 3. Compute covariance and lag-covariance matrix in EOF space, Č=<P(t)P’(t)>\n",
    "and ČDt=<P(t+Dt)P’(t)> , where Č and ČDt are the covariance and lag-covariance matrix\n",
    "in EOF space, P(t) (Mx1) is a state vector of Pi(t) and P’(t) is its transpose, i.e., P’(t) =\n",
    "[P1(t), P2(t), …, PM(t)]1xM\n",
    "* Step 4. Compute the propagator in EOF space, G=ČDtČ-1, where the lag Dt can be\n",
    "taken to be 7 months (see Penland and Magorian (1993)) and G has MxM dimension\n",
    "* Step 5. Take an initial SSTA state vector T at any to, regress T(to) onto Ei to determine\n",
    "Pi(to) and then form P(to)\n",
    "* Step 6. Make SST forecast in EOF space from to to tn: P(tn) = G(tn-to)/DtP(to)\n",
    "* Step 7. Transform the forecast in EOF space, P(tn), back to the physical space:\n",
    "T(tn)=Si=1, M Pi(tn)Ei"
   ]
  },
  {
   "attachments": {},
   "cell_type": "markdown",
   "id": "1f97f620",
   "metadata": {},
   "source": [
    "### 1. Smooth SSTAs\n",
    "\n",
    "Smooth SST anomalies (SSTAs) using a 3-month running mean."
   ]
  },
  {
   "cell_type": "code",
   "execution_count": null,
   "id": "68900708",
   "metadata": {},
   "outputs": [],
   "source": [
    "import numpy.linalg as la\n",
    "import xarray as xr\n",
    "import numpy as np\n",
    "from rich import print\n",
    "\n",
    "def get_anomaly(x):\n",
    "    \"\"\"Remove the seasonal cycle from the data.\n",
    "    Params: x (numpy array): data with time dimension\n",
    "    Returns: x (numpy array): data with seasonal cycle removed\n",
    "    \"\"\"\n",
    "    nt, ny, nx = x.shape\n",
    "    x = x.reshape(nt//12, 12, ny, nx)\n",
    "    # seasonal mean\n",
    "    x_mean = x.mean(axis=0, keepdims=True)\n",
    "    # remove seasonal cycle\n",
    "    x = x - x_mean\n",
    "    # reshape time dimension\n",
    "    x = x.reshape(nt, ny, nx)\n",
    "    return x\n",
    "\n",
    "def running_mean(x, m):\n",
    "    \"\"\"Compute the running mean of x along the first dimension.\n",
    "    Params: x (numpy array): data\n",
    "            m (int): half of the window size\n",
    "    Returns: x (numpy array): data with running mean\n",
    "    \"\"\"\n",
    "    # reference:\n",
    "    # https://stackoverflow.com/questions/13728392/moving-average-or-running-mean\n",
    "    nt, ny, nx = x.shape\n",
    "    x_rm = np.zeros_like(x)\n",
    "    # pad the data along the dimension dim with m elements\n",
    "    pad_width = [(0, 0)]*x.ndim\n",
    "    pad_width[0] = (m, m)\n",
    "    x = np.pad(x, pad_width, mode='edge')\n",
    "    # compute the running mean\n",
    "    for j in range(ny):\n",
    "        for i in range(nx):\n",
    "            x_rm[:,j,i] = np.convolve(x[:,j,i], np.ones(2*m+1)/float(2*m+1), mode='valid')\n",
    "    return x_rm\n",
    "\n",
    "# read in the data\n",
    "dir = \"../NCEP_monthly_mean_data/\"\n",
    "sst_ds = xr.open_dataset(dir + \"skt.sfc.mon.mean.tropics.nc\", use_cftime=True)\n",
    "grid_ds = xr.open_dataset(dir + \"lsmask.tropics.nc\", use_cftime=True)\n",
    "# get the data\n",
    "sst_da, grid_da = sst_ds.skt, grid_ds.lsmask\n",
    "# reverse the latitude dimension to make it increasing\n",
    "sst_da = sst_da.reindex(lat=sst_da.lat[::-1])\n",
    "grid_da = grid_da.reindex(lat=grid_da.lat[::-1])\n",
    "# select data from 1948 to 1999 for training, \n",
    "# and in a target region (30N-30S, 100E-60W)\n",
    "lat_min, lat_max = -30, 30\n",
    "lon_min, lon_max = 100, 300\n",
    "sst = sst_da.sel(time=slice(\"1948\", \"1999\"), lon=slice(lon_min, lon_max))\n",
    "grid = grid_da.sel(lon=slice(lon_min, lon_max), lat=slice(lat_min, lat_max))\n",
    "lat, lon = sst.lat.values, sst.lon.values\n",
    "time = sst.time.values\n",
    "# get the data as numpy arrays\n",
    "sst, grid = sst.values, grid.values\n",
    "grid = grid[0,:,:]\n",
    "# normalize the data\n",
    "sst_anom = get_anomaly(sst)\n",
    "# get 3-month running mean with a window size of 3 (half window size is 1)\n",
    "sst_anom = running_mean(sst_anom, 1)\n",
    "# mask out the land\n",
    "sst_anom[:, grid == -1] = 0\n",
    "print(\"SST anomaly data shape: \", sst_anom.shape)"
   ]
  },
  {
   "attachments": {},
   "cell_type": "markdown",
   "id": "c9c3c6d1",
   "metadata": {},
   "source": [
    "### 2. EOF decomposition and reconstruction\n",
    "\n",
    "* Perform an EOF (empirical orthogonal functions) analysis on the smoothed SSTAs;\n",
    "* Reconstruct and truncate SSTAs using $m$ leading EOFs and the corresponding principal component time series as $T(t) = \\sum_{i=1}^m P_i(t) E_i$, where $P_i(t)$ is the $i$-th principal component time series and $E_i$ is the $i$-th EOF."
   ]
  },
  {
   "cell_type": "code",
   "execution_count": null,
   "id": "01faa312",
   "metadata": {},
   "outputs": [],
   "source": [
    "# reference: https://ajdawson.github.io/eofs/latest/examples/elnino_standard.html\n",
    "from eofs.standard import Eof\n",
    "# compute the first m EOFs\n",
    "m = 20\n",
    "wgt = np.cos(np.deg2rad(lat))[np.newaxis,:,np.newaxis]\n",
    "solver = Eof(sst_anom) #, weights=wgt)\n",
    "eofs = solver.eofsAsCovariance(neofs=m)\n",
    "pcs = solver.pcs(npcs=m, pcscaling=1)\n",
    "explained_variance = solver.varianceFraction()\n",
    "print(\"eofs shape: \", eofs.shape)\n",
    "print(\"pcs shape: \", pcs.shape)\n",
    "print(\"explained variance shape: \", explained_variance.shape)\n",
    "# print first 20 explained variance and cumulative explained variance\n",
    "print(\"explained variance: \", explained_variance[:20])\n",
    "print(\"cumulative explained variance: \", explained_variance[:20].cumsum())"
   ]
  },
  {
   "attachments": {},
   "cell_type": "markdown",
   "id": "151ef3b1",
   "metadata": {},
   "source": [
    "As we can see, the first 10 EOFs can explain 79.48% of the variance of the SSTAs, and the first 20 EOFs can explain 89.19% of the variance of the SSTAs."
   ]
  },
  {
   "cell_type": "code",
   "execution_count": null,
   "id": "38d0d2fa",
   "metadata": {},
   "outputs": [],
   "source": [
    "# import necessary modules for plotting\n",
    "import matplotlib.pyplot as plt\n",
    "import cartopy.crs as ccrs\n",
    "import cartopy.feature as cfeature\n",
    "from cartopy.mpl.ticker import LongitudeFormatter, LatitudeFormatter\n",
    "import cmaps\n",
    "from mpl_toolkits.axes_grid1.inset_locator import inset_axes"
   ]
  },
  {
   "cell_type": "code",
   "execution_count": null,
   "id": "5f35242e",
   "metadata": {},
   "outputs": [],
   "source": [
    "# make a plot of the cumulative explained variance as a function of the number of EOFs\n",
    "fig, ax = plt.subplots(figsize=(6,4))\n",
    "ax.plot(np.arange(1, m+1), explained_variance[:m].cumsum(), 'k-', lw=2)\n",
    "ax.set_xlabel(\"Number of EOFs\", fontsize=14)\n",
    "ax.set_ylabel(\"Cumulative explained variance\", fontsize=14)\n",
    "ax.set_xticks(np.arange(1, m+1, 2))\n",
    "ax.set_yticks(np.arange(0.4, 1.1, 0.1))\n",
    "ax.set_ylim(0.4, 1)\n",
    "ax.tick_params(labelsize=12)\n",
    "ax.grid()\n",
    "plt.show()\n",
    "fig.savefig(\"./report/figures/cumulative_explained_variance.png\", dpi=300, bbox_inches='tight')"
   ]
  },
  {
   "cell_type": "code",
   "execution_count": null,
   "id": "461205ca",
   "metadata": {},
   "outputs": [],
   "source": [
    "# plot the first 4 EOFs and PCs\n",
    "# set up the figure, left column for EOFs, right column for PCs\n",
    "plot_modes = 4\n",
    "fig = plt.figure(figsize=(10, 10), dpi=300)\n",
    "# set up the projection\n",
    "projection = ccrs.PlateCarree(central_longitude=180)\n",
    "# set up the axes\n",
    "axes = np.empty((plot_modes, 2), dtype=object)\n",
    "for i in range(plot_modes):\n",
    "    axes[i,0] = fig.add_subplot(plot_modes, 2, 2*i+1, projection=projection)\n",
    "    axes[i,1] = fig.add_subplot(plot_modes, 2, 2*i+2)\n",
    "# cftime to float\n",
    "time_fl = [t.year + t.month/12 for t in time]\n",
    "# plot the first 4 EOFs\n",
    "for i in range(plot_modes):\n",
    "    ax = axes[i,0]\n",
    "    # set extent\n",
    "    ax.set_extent([lon_min, lon_max, lat_min, lat_max], crs=ccrs.PlateCarree())\n",
    "    # plot the EOF\n",
    "    im = ax.contourf(lon, lat, eofs[i,:,:], levels=np.linspace(-1, 1, 11), cmap=cmaps.BlWhRe, transform=ccrs.PlateCarree())\n",
    "    # add coastlines\n",
    "    ax.coastlines()\n",
    "    # add gridlines\n",
    "    ax.gridlines()\n",
    "    # add title\n",
    "    ax.set_title(f\"EOF {i+1} ({explained_variance[i]*100:.2f}%)\")\n",
    "    # lat and lon ticks\n",
    "    lon_formatter = LongitudeFormatter(zero_direction_label=True)\n",
    "    lat_formatter = LatitudeFormatter()\n",
    "    ax.set_xticks(np.arange(lon_min, lon_max+1, 40), crs=ccrs.PlateCarree())\n",
    "    ax.set_yticks(np.arange(lat_min, lat_max+1, 30), crs=ccrs.PlateCarree())\n",
    "    ax.xaxis.set_major_formatter(lon_formatter)\n",
    "    ax.yaxis.set_major_formatter(lat_formatter)\n",
    "    # add colorbar\n",
    "    if i == plot_modes - 1:\n",
    "        cax = inset_axes(ax, width=\"100%\", height=\"10%\", loc='lower center', borderpad=-2.6)\n",
    "        fig.colorbar(im, cax=cax, orientation='horizontal')\n",
    "    aspect_ratio = 1/ax.get_data_ratio()\n",
    "    # plot the PC\n",
    "    ax = axes[i,1]\n",
    "    # set aspect ratio\n",
    "    ax.plot(time_fl, pcs[:,i], color='k')\n",
    "    ax.set_title(\"PC\" + str(i+1))\n",
    "    if i == plot_modes-1:\n",
    "        ax.set_xlabel(\"Time\")\n",
    "    ax.set_ylabel(\"PC\")\n",
    "    # add gridlines\n",
    "    ax.grid()\n",
    "    ax.set_aspect(60/200/ax.get_data_ratio())\n",
    "# adjust the spacing between subplots\n",
    "plt.subplots_adjust(wspace=0.3, hspace=-0.4)\n",
    "# show and save the figure\n",
    "plt.show()\n",
    "fig.savefig(\"./report/figures/EOFs_PCs.png\", dpi=300, bbox_inches='tight')"
   ]
  },
  {
   "cell_type": "code",
   "execution_count": null,
   "id": "fe4b9fda",
   "metadata": {},
   "outputs": [],
   "source": [
    "import cftime\n",
    "# reconstruct the first m EOFs, can also use the solver.reconstructedField()\n",
    "m = 10\n",
    "sst_recon = pcs[:, :m] @ (eofs[:m, :, :].reshape(m, -1))\n",
    "sst_recon = sst_recon.reshape(-1, grid.shape[0], grid.shape[1])\n",
    "# plot the original SST and the reconstructed SST at 4 time steps\n",
    "plot_step = 4\n",
    "time_steps = [cftime.DatetimeGregorian(1949, 1, 1, 0, 0, 0, 0),\n",
    "                cftime.DatetimeGregorian(1959, 1, 1, 0, 0, 0, 0),\n",
    "                cftime.DatetimeGregorian(1979, 6, 1, 0, 0, 0, 0),\n",
    "                cftime.DatetimeGregorian(1999, 12, 1, 0, 0, 0, 0)]\n",
    "# get time index\n",
    "time_idx = [np.where(time == t)[0][0] for t in time_steps]\n",
    "fig, axes = plt.subplots(plot_step, 2, figsize=(10, 10),\n",
    "                            subplot_kw={'projection': projection},\n",
    "                            dpi=300)\n",
    "for i in range(plot_step):\n",
    "    year, month = time_steps[i].year, time_steps[i].month\n",
    "    for j in range(2):\n",
    "        ax = axes[i,j]\n",
    "        # set extent\n",
    "        ax.set_extent([lon_min, lon_max, lat_min, lat_max], crs=ccrs.PlateCarree())\n",
    "        if j == 0:\n",
    "            im = ax.contourf(lon, lat, sst_anom[time_idx[i],:,:], levels=np.linspace(-2, 2, 11), cmap=cmaps.BlWhRe, transform=ccrs.PlateCarree())\n",
    "            ax.set_title(f\"Original SSTA (time={year}-{month:02d})\")\n",
    "        else:\n",
    "            im = ax.contourf(lon, lat, sst_recon[time_idx[i],:,:], levels=np.linspace(-2, 2, 11), cmap=cmaps.BlWhRe, transform=ccrs.PlateCarree())\n",
    "            ax.set_title(f\"Reconstructed SSTA (time={year}-{month:02d})\")\n",
    "        # add coastlines\n",
    "        ax.coastlines()\n",
    "        # lat and lon ticks\n",
    "        ax.set_xticks(np.arange(lon_min, lon_max+1, 40), crs=ccrs.PlateCarree())\n",
    "        ax.set_yticks(np.arange(lat_min, lat_max+1, 30), crs=ccrs.PlateCarree())\n",
    "        if i == plot_step - 1:\n",
    "            lon_formatter = LongitudeFormatter(zero_direction_label=True)\n",
    "            ax.xaxis.set_major_formatter(lon_formatter)\n",
    "        else:\n",
    "            # add ticks but no labels\n",
    "            ax.set_xticklabels([])\n",
    "        if j == 0:\n",
    "            lat_formatter = LatitudeFormatter()\n",
    "            ax.yaxis.set_major_formatter(lat_formatter)\n",
    "        else:\n",
    "            # add ticks but no labels\n",
    "            ax.set_yticklabels([])\n",
    "        # add colorbar\n",
    "        if i == plot_step - 1:\n",
    "            cax = inset_axes(ax, width=\"100%\", height=\"10%\", loc='lower center', borderpad=-2.6)\n",
    "            fig.colorbar(im, cax=cax, orientation='horizontal')\n",
    "plt.subplots_adjust(wspace=0.1, hspace=-0.5)\n",
    "plt.show()\n",
    "fig.savefig(\"./report/figures/reconstruct_ssta.png\", dpi=300, bbox_inches='tight')\n"
   ]
  },
  {
   "attachments": {},
   "cell_type": "markdown",
   "id": "9d906963",
   "metadata": {},
   "source": [
    "### 3. Compute covariance and lag-covariance matrix in EOF space\n",
    "\n",
    "* Compute covariance ($\\hat{C}$) and lag-covariance matrix ($\\hat{C}_{\\Delta t}$) in EOF space, where $\\Delta t$ is the time lag. $\\hat{C} = \\frac{1}{N} \\sum_{t=1}^N P(t)P(t)^T$ and $\\hat{C}_{\\Delta t} = \\frac{1}{N-\\Delta t} \\sum_{t=1}^{N-\\Delta t} P(t)P(t+\\Delta t)^T$."
   ]
  },
  {
   "cell_type": "code",
   "execution_count": 22,
   "id": "428d68d9",
   "metadata": {},
   "outputs": [
    {
     "data": {
      "text/html": [
       "<pre style=\"white-space:pre;overflow-x:auto;line-height:normal;font-family:Menlo,'DejaVu Sans Mono',consolas,'Courier New',monospace\">Shape of the covariance matrix:\n",
       "<span style=\"font-weight: bold\">(</span><span style=\"color: #008080; text-decoration-color: #008080; font-weight: bold\">10</span>, <span style=\"color: #008080; text-decoration-color: #008080; font-weight: bold\">10</span><span style=\"font-weight: bold\">)</span>\n",
       "</pre>\n"
      ],
      "text/plain": [
       "Shape of the covariance matrix:\n",
       "\u001b[1m(\u001b[0m\u001b[1;36m10\u001b[0m, \u001b[1;36m10\u001b[0m\u001b[1m)\u001b[0m\n"
      ]
     },
     "metadata": {},
     "output_type": "display_data"
    },
    {
     "data": {
      "text/html": [
       "<pre style=\"white-space:pre;overflow-x:auto;line-height:normal;font-family:Menlo,'DejaVu Sans Mono',consolas,'Courier New',monospace\">Shape of the lag-covariance matrix:\n",
       "<span style=\"font-weight: bold\">(</span><span style=\"color: #008080; text-decoration-color: #008080; font-weight: bold\">10</span>, <span style=\"color: #008080; text-decoration-color: #008080; font-weight: bold\">10</span><span style=\"font-weight: bold\">)</span>\n",
       "</pre>\n"
      ],
      "text/plain": [
       "Shape of the lag-covariance matrix:\n",
       "\u001b[1m(\u001b[0m\u001b[1;36m10\u001b[0m, \u001b[1;36m10\u001b[0m\u001b[1m)\u001b[0m\n"
      ]
     },
     "metadata": {},
     "output_type": "display_data"
    }
   ],
   "source": [
    "m = 10\n",
    "# covariance of the first m PCs\n",
    "PC_cov = pcs[:,:m].T @ pcs[:,:m] / (len(time))\n",
    "# lag-covariance of the first m PCs (lag=7)\n",
    "lag = 7\n",
    "PC_lag_cov = np.zeros((m, m))\n",
    "for i in range(m):\n",
    "    for j in range(m):\n",
    "        PC_lag_cov[i,j] = np.sum(pcs[:-lag,i] * pcs[lag:,j]) / (len(time)-lag)\n",
    "\n",
    "# print the shapes of the matrices\n",
    "print(\"Shape of the covariance matrix:\", PC_cov.shape)\n",
    "print(\"Shape of the lag-covariance matrix:\", PC_lag_cov.shape)"
   ]
  },
  {
   "attachments": {},
   "cell_type": "markdown",
   "id": "a6f5cff3",
   "metadata": {},
   "source": [
    "### 4. Compute propagator matrix\n",
    "\n",
    "* Compute propagator matrix: ($\\hat{G}$) = $\\hat{C}_{\\Delta t}\\hat{C}^{-1}$ in EOF space."
   ]
  },
  {
   "cell_type": "code",
   "execution_count": 23,
   "id": "862c5ec4",
   "metadata": {},
   "outputs": [
    {
     "data": {
      "text/html": [
       "<pre style=\"white-space:pre;overflow-x:auto;line-height:normal;font-family:Menlo,'DejaVu Sans Mono',consolas,'Courier New',monospace\">Shape of the propagator matrix:\n",
       "<span style=\"font-weight: bold\">(</span><span style=\"color: #008080; text-decoration-color: #008080; font-weight: bold\">10</span>, <span style=\"color: #008080; text-decoration-color: #008080; font-weight: bold\">10</span><span style=\"font-weight: bold\">)</span>\n",
       "</pre>\n"
      ],
      "text/plain": [
       "Shape of the propagator matrix:\n",
       "\u001b[1m(\u001b[0m\u001b[1;36m10\u001b[0m, \u001b[1;36m10\u001b[0m\u001b[1m)\u001b[0m\n"
      ]
     },
     "metadata": {},
     "output_type": "display_data"
    }
   ],
   "source": [
    "# Propagator matrix: G = PC_lag_cov @ inv(PC_cov)\n",
    "G = PC_lag_cov @ np.linalg.inv(PC_cov)\n",
    "# print the shape of the propagator matrix\n",
    "print(\"Shape of the propagator matrix:\", G.shape)"
   ]
  },
  {
   "attachments": {},
   "cell_type": "markdown",
   "id": "e7bf05b1",
   "metadata": {},
   "source": [
    "### 5. Regress initial SSTA onto EOF space\n",
    "\n",
    "* Take an initial SSTA state vector $T$ at any $t_0$, regress $T(t_0)$ onto $E_i$ to determine\n",
    "$P_i(t_0)$ and then form $P(t_0)$."
   ]
  },
  {
   "cell_type": "code",
   "execution_count": null,
   "id": "128fe675",
   "metadata": {},
   "outputs": [],
   "source": []
  }
 ],
 "metadata": {
  "authors": [
   {
    "name": "Jinjun Liu"
   }
  ],
  "kernelspec": {
   "display_name": "TCpy",
   "language": "python",
   "name": "python3"
  },
  "language_info": {
   "codemirror_mode": {
    "name": "ipython",
    "version": 3
   },
   "file_extension": ".py",
   "mimetype": "text/x-python",
   "name": "python",
   "nbconvert_exporter": "python",
   "pygments_lexer": "ipython3",
   "version": "3.10.4"
  },
  "title": "ATMO 651 Final Project",
  "vscode": {
   "interpreter": {
    "hash": "89830f9ad87ab3f8382f138353d764f6fd4f3929eb31315f2489d4f42e4797e6"
   }
  }
 },
 "nbformat": 4,
 "nbformat_minor": 5
}
