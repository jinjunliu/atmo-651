{
 "cells": [
  {
   "cell_type": "markdown",
   "id": "25bf0f3f",
   "metadata": {},
   "source": [
    "# Introduction\n",
    "This project is to use a statistical model to predict the wind stress anomalies by sea surface temperature anomalies (SSTA). The relationship can be represented as $\\boldsymbol{\\tau_s} = \\boldsymbol{C} \\boldsymbol{T}$, where $\\boldsymbol{\\tau_s}$ and $\\boldsymbol{T}$ are state vectors of wind stress anomolies and SSTA, respectively, and $\\boldsymbol{C}$ is a constant coefficient (a matrix). Our goal is to get $\\boldsymbol{C}$."
   ]
  },
  {
   "cell_type": "code",
   "execution_count": null,
   "id": "e1c856a9-9639-4d8b-8691-66f4b45bdf71",
   "metadata": {},
   "outputs": [],
   "source": []
  }
 ],
 "metadata": {
  "authors": [
   {
    "name": "Jinjun Liu"
   }
  ],
  "kernelspec": {
   "display_name": "Python 3 (ipykernel)",
   "language": "python",
   "name": "python3"
  },
  "language_info": {
   "codemirror_mode": {
    "name": "ipython",
    "version": 3
   },
   "file_extension": ".py",
   "mimetype": "text/x-python",
   "name": "python",
   "nbconvert_exporter": "python",
   "pygments_lexer": "ipython3",
   "version": "3.10.4"
  },
  "title": "ATMO 615 Midterm Project",
  "vscode": {
   "interpreter": {
    "hash": "89830f9ad87ab3f8382f138353d764f6fd4f3929eb31315f2489d4f42e4797e6"
   }
  }
 },
 "nbformat": 4,
 "nbformat_minor": 5
}
