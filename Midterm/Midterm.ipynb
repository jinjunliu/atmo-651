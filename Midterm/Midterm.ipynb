{
 "cells": [
  {
   "cell_type": "markdown",
   "id": "25bf0f3f",
   "metadata": {},
   "source": [
    "# Introduction\n",
    "This project is to use a statistical model to predict the wind stress anomalies by sea surface temperature anomalies (SSTA). The relationship can be represented as $\\boldsymbol{\\tau_s} = \\boldsymbol{C} \\boldsymbol{T}$, where $\\boldsymbol{\\tau_s}$ and $\\boldsymbol{T}$ are state vectors of wind stress anomolies and SSTA, respectively, and $\\boldsymbol{C}$ is a constant coefficient (a matrix). Our goal is to derive $\\boldsymbol{C}$ using Singular Value Decomposition (SVD) analysis on a training dataset, and apply the relationship on a testing dataset.\n",
    "\n",
    "This project is going to:\n",
    "\n",
    "1. Formulate a statistical atmosphere model for predicting surface wind stress anomalies for given SST anomalies;\n",
    "2. Validate the simulated surface wind stress anomalies against observations;\n",
    "3. Perform sensitivity tests to see how the results depend on the number of SVDs used to compute the anomalies;\n",
    "4. Discuss whether the results make physical sense and why;"
   ]
  },
  {
   "cell_type": "markdown",
   "id": "d914fae0-a093-4004-a65b-b8ee13e07202",
   "metadata": {},
   "source": [
    "# Dataset and Method\n",
    "Surface temperature ($T_s$), zonal wind stress ($u$), meridional wind stress ($v$), and a land mask dataset are given. $T_s, u, v$ are three-dimensional, with two space dimensions and one time dimension. Datasets are divided into two parts: data in 1948-1999 are used as training dataset, and data in 2000-2017 are used as testing dataset.\n",
    "\n",
    "We follow the following steps to perform the SVD analysis:\n",
    "\n",
    "1. Normalize all the anomaly fields by dividing each of variables by its own standard deviation;\n",
    "2. Form a state vector for SSTA ($\\boldsymbol{T}$), and another one for zonal and meridional wind stress anomaly ($\\boldsymbol{\\tau_s}$). Note that $\\boldsymbol{\\tau_s}$ contains both wind stress component and has larger dimension than $\\boldsymbol{T}$;\n",
    "3. Form a normalized covariance matrix, $\\boldsymbol{A=\\tau _s T'}$, whose dimension should be $M\\times N$, where $M$ is the length for $\\boldsymbol{\\tau_s}$ and $N$ is length for $\\boldsymbol{T}$;\n",
    "4. Apply SVD on $\\boldsymbol{A}$ by calling Matlab’s SVD function, which results in $\\boldsymbol{A=USV'}$, $S$ is a diagonal matrix with diagonal elements representing singular values - explained squared covariance in each SVD, $\\boldsymbol{U}$ contains all wind stress singular vectors and $V$ contains all SST singular vectors, which are self-orthogonal, i.e., $\\boldsymbol{VV'=I}$ and $\\boldsymbol{UU'=I}$. "
   ]
  },
  {
   "cell_type": "markdown",
   "id": "8654ef7a-096f-4f9f-86e1-9cd3daa445a5",
   "metadata": {},
   "source": [
    "# Results\n",
    "## SVD analysis\n",
    "Although the SVD MATLAB scripts are provided, I rewrite them in Python in order to better understand the SVD method. The Python script is below:"
   ]
  },
  {
   "cell_type": "code",
   "execution_count": null,
   "id": "bd93cf46-39a6-4bc1-b70b-f9a30ee74352",
   "metadata": {},
   "outputs": [],
   "source": [
    "import "
   ]
  }
 ],
 "metadata": {
  "authors": [
   {
    "name": "Jinjun Liu"
   }
  ],
  "kernelspec": {
   "display_name": "Python 3 (ipykernel)",
   "language": "python",
   "name": "python3"
  },
  "language_info": {
   "codemirror_mode": {
    "name": "ipython",
    "version": 3
   },
   "file_extension": ".py",
   "mimetype": "text/x-python",
   "name": "python",
   "nbconvert_exporter": "python",
   "pygments_lexer": "ipython3",
   "version": "3.10.4"
  },
  "title": "ATMO 615 Midterm Project",
  "vscode": {
   "interpreter": {
    "hash": "89830f9ad87ab3f8382f138353d764f6fd4f3929eb31315f2489d4f42e4797e6"
   }
  }
 },
 "nbformat": 4,
 "nbformat_minor": 5
}
